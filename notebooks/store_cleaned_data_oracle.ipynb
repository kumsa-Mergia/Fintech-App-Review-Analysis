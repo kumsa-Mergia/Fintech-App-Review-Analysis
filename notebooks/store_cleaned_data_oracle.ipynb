{
 "cells": [
  {
   "cell_type": "markdown",
   "id": "21626ddc",
   "metadata": {},
   "source": [
    "#  Setup & Imports"
   ]
  },
  {
   "cell_type": "code",
   "execution_count": 1,
   "id": "615c9c58",
   "metadata": {},
   "outputs": [],
   "source": [
    "import pandas as pd\n",
    "import cx_Oracle\n",
    "import logging\n",
    "import os\n",
    "import sys\n",
    "sys.path.append(os.path.abspath(\"../src\"))\n",
    "from oracle_db_manager import OracleDBManager\n",
    "from dotenv import load_dotenv\n"
   ]
  },
  {
   "cell_type": "markdown",
   "id": "e64edbd3",
   "metadata": {},
   "source": [
    "# Load Cleaned Data"
   ]
  },
  {
   "cell_type": "code",
   "execution_count": 2,
   "id": "5e9b5997",
   "metadata": {},
   "outputs": [
    {
     "data": {
      "text/html": [
       "<div>\n",
       "<style scoped>\n",
       "    .dataframe tbody tr th:only-of-type {\n",
       "        vertical-align: middle;\n",
       "    }\n",
       "\n",
       "    .dataframe tbody tr th {\n",
       "        vertical-align: top;\n",
       "    }\n",
       "\n",
       "    .dataframe thead th {\n",
       "        text-align: right;\n",
       "    }\n",
       "</style>\n",
       "<table border=\"1\" class=\"dataframe\">\n",
       "  <thead>\n",
       "    <tr style=\"text-align: right;\">\n",
       "      <th></th>\n",
       "      <th>review</th>\n",
       "      <th>rating</th>\n",
       "      <th>date</th>\n",
       "      <th>bank</th>\n",
       "      <th>source</th>\n",
       "    </tr>\n",
       "  </thead>\n",
       "  <tbody>\n",
       "    <tr>\n",
       "      <th>0</th>\n",
       "      <td>👌👍</td>\n",
       "      <td>5</td>\n",
       "      <td>2025-06-04</td>\n",
       "      <td>Commercial Bank of Ethiopia</td>\n",
       "      <td>Google Play Store</td>\n",
       "    </tr>\n",
       "    <tr>\n",
       "      <th>1</th>\n",
       "      <td>very niec</td>\n",
       "      <td>5</td>\n",
       "      <td>2025-06-04</td>\n",
       "      <td>Commercial Bank of Ethiopia</td>\n",
       "      <td>Google Play Store</td>\n",
       "    </tr>\n",
       "    <tr>\n",
       "      <th>2</th>\n",
       "      <td>best app of finance</td>\n",
       "      <td>5</td>\n",
       "      <td>2025-06-04</td>\n",
       "      <td>Commercial Bank of Ethiopia</td>\n",
       "      <td>Google Play Store</td>\n",
       "    </tr>\n",
       "    <tr>\n",
       "      <th>3</th>\n",
       "      <td>yetemeta</td>\n",
       "      <td>1</td>\n",
       "      <td>2025-06-03</td>\n",
       "      <td>Commercial Bank of Ethiopia</td>\n",
       "      <td>Google Play Store</td>\n",
       "    </tr>\n",
       "    <tr>\n",
       "      <th>4</th>\n",
       "      <td>Engida Kebede Fetera</td>\n",
       "      <td>5</td>\n",
       "      <td>2025-06-03</td>\n",
       "      <td>Commercial Bank of Ethiopia</td>\n",
       "      <td>Google Play Store</td>\n",
       "    </tr>\n",
       "  </tbody>\n",
       "</table>\n",
       "</div>"
      ],
      "text/plain": [
       "                 review  rating        date                         bank  \\\n",
       "0                    👌👍       5  2025-06-04  Commercial Bank of Ethiopia   \n",
       "1             very niec       5  2025-06-04  Commercial Bank of Ethiopia   \n",
       "2   best app of finance       5  2025-06-04  Commercial Bank of Ethiopia   \n",
       "3              yetemeta       1  2025-06-03  Commercial Bank of Ethiopia   \n",
       "4  Engida Kebede Fetera       5  2025-06-03  Commercial Bank of Ethiopia   \n",
       "\n",
       "              source  \n",
       "0  Google Play Store  \n",
       "1  Google Play Store  \n",
       "2  Google Play Store  \n",
       "3  Google Play Store  \n",
       "4  Google Play Store  "
      ]
     },
     "execution_count": 2,
     "metadata": {},
     "output_type": "execute_result"
    }
   ],
   "source": [
    "df = pd.read_csv('../data/bank_reviews_clean.csv')\n",
    "df['date'] = pd.to_datetime(df['date']).dt.strftime('%Y-%m-%d')\n",
    "df.head()"
   ]
  },
  {
   "cell_type": "markdown",
   "id": "118476b8",
   "metadata": {},
   "source": [
    "# Load .env variables"
   ]
  },
  {
   "cell_type": "code",
   "execution_count": 3,
   "id": "5bf3d86f",
   "metadata": {},
   "outputs": [
    {
     "data": {
      "text/plain": [
       "True"
      ]
     },
     "execution_count": 3,
     "metadata": {},
     "output_type": "execute_result"
    }
   ],
   "source": [
    "load_dotenv()"
   ]
  },
  {
   "cell_type": "markdown",
   "id": "4296c7f0",
   "metadata": {},
   "source": [
    "#  -- Initialize and Connect to Oracle --"
   ]
  },
  {
   "cell_type": "markdown",
   "id": "800952a7",
   "metadata": {},
   "source": [
    "#### Create DB instance using environment variables"
   ]
  },
  {
   "cell_type": "code",
   "execution_count": 4,
   "id": "14eacb2d",
   "metadata": {},
   "outputs": [
    {
     "name": "stdout",
     "output_type": "stream",
     "text": [
      "Attempting to connect to DSN: localhost:1521/xepdb1 as user: FINTECH_APP_USER\n",
      "Database connection established.\n"
     ]
    }
   ],
   "source": [
    "# Initialize database connection\n",
    "user = os.getenv(\"ORACLE_USER\")\n",
    "password = os.getenv(\"ORACLE_PASSWORD\")\n",
    "dsn = os.getenv(\"ORACLE_DSN\")\n",
    "\n",
    "        # Determine connection mode based on the user (as discussed previously)\n",
    "connection_mode = None\n",
    "        # You'll need cx_Oracle imported here if you don't already have it\n",
    "        # For simplicity, assuming cx_Oracle is available for cx_Oracle.SYSDBA\n",
    "try:\n",
    "    import cx_Oracle\n",
    "    if user and user.upper() == \"SYS\":\n",
    "        connection_mode = cx_Oracle.SYSDBA\n",
    "except ImportError:\n",
    "    logging.warning(\"cx_Oracle not imported. Cannot set SYSDBA mode if user is SYS.\")\n",
    "\n",
    "logging.info(f\"Attempting to connect with user: {user}, dsn: {dsn}\")\n",
    "\n",
    "        # Pass the mode to the OracleDBManager constructor\n",
    "db = OracleDBManager(user=user, password=password, dsn=dsn, mode=connection_mode)\n",
    "db.connect()"
   ]
  },
  {
   "cell_type": "markdown",
   "id": "522b0a58",
   "metadata": {},
   "source": [
    "# Create Tables (Run Once Only)"
   ]
  },
  {
   "cell_type": "code",
   "execution_count": 5,
   "id": "e6d52f19",
   "metadata": {},
   "outputs": [
    {
     "name": "stdout",
     "output_type": "stream",
     "text": [
      "Creating banks table...\n",
      "Banks table created successfully.\n",
      "Reviews table already exists, skipping creation.\n"
     ]
    }
   ],
   "source": [
    "# Run this only once, or comment out after tables are created\n",
    "try:\n",
    "    db.create_tables()\n",
    "except Exception as e:\n",
    "    print(\"⚠️ Tables may already exist:\", e)"
   ]
  },
  {
   "cell_type": "markdown",
   "id": "902b99a6",
   "metadata": {},
   "source": [
    "#  -------- Insert Banks -------- "
   ]
  },
  {
   "cell_type": "code",
   "execution_count": 6,
   "id": "e473d7fe",
   "metadata": {},
   "outputs": [
    {
     "name": "stdout",
     "output_type": "stream",
     "text": [
      "Inserted/updated 3 banks.\n"
     ]
    },
    {
     "data": {
      "text/plain": [
       "{'Commercial Bank of Ethiopia': 1, 'Bank of Abyssinia': 2, 'Dashen Bank': 3}"
      ]
     },
     "execution_count": 6,
     "metadata": {},
     "output_type": "execute_result"
    }
   ],
   "source": [
    "bank_names = df['bank'].unique()\n",
    "bank_id_map = db.insert_banks(bank_names)\n",
    "bank_id_map"
   ]
  },
  {
   "cell_type": "markdown",
   "id": "9263a162",
   "metadata": {},
   "source": [
    "#  -------- Insert Reviews -------- "
   ]
  },
  {
   "cell_type": "code",
   "execution_count": 7,
   "id": "8b26d2a0",
   "metadata": {},
   "outputs": [
    {
     "name": "stdout",
     "output_type": "stream",
     "text": [
      "Inserted 1106 reviews.\n"
     ]
    }
   ],
   "source": [
    "db.insert_reviews(df, bank_id_map)"
   ]
  },
  {
   "cell_type": "markdown",
   "id": "7da92531",
   "metadata": {},
   "source": [
    "# -------- Verify in Oracle -------- "
   ]
  },
  {
   "cell_type": "code",
   "execution_count": 8,
   "id": "e50d8f26",
   "metadata": {},
   "outputs": [
    {
     "name": "stdout",
     "output_type": "stream",
     "text": [
      "Attempting to connect to DSN: localhost:1521/xepdb1 as user: FINTECH_APP_USER\n",
      "Database connection established.\n",
      "Review count: 1106\n"
     ]
    }
   ],
   "source": [
    "db.connect()\n",
    "db.cursor.execute(\"SELECT COUNT(*) FROM reviews\")\n",
    "print(\"Review count:\", db.cursor.fetchone()[0])"
   ]
  },
  {
   "cell_type": "markdown",
   "id": "40843a76",
   "metadata": {},
   "source": [
    "# ---- Close Connection ---- "
   ]
  },
  {
   "cell_type": "code",
   "execution_count": 9,
   "id": "1bca2076",
   "metadata": {},
   "outputs": [
    {
     "name": "stdout",
     "output_type": "stream",
     "text": [
      "Cursor closed.\n",
      "Database connection closed.\n"
     ]
    }
   ],
   "source": [
    "db.close()"
   ]
  }
 ],
 "metadata": {
  "kernelspec": {
   "display_name": "venv",
   "language": "python",
   "name": "python3"
  },
  "language_info": {
   "codemirror_mode": {
    "name": "ipython",
    "version": 3
   },
   "file_extension": ".py",
   "mimetype": "text/x-python",
   "name": "python",
   "nbconvert_exporter": "python",
   "pygments_lexer": "ipython3",
   "version": "3.12.3"
  }
 },
 "nbformat": 4,
 "nbformat_minor": 5
}
